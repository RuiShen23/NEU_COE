{
 "cells": [
  {
   "cell_type": "markdown",
   "metadata": {},
   "source": [
    "# Social Web - Facebook"
   ]
  },
  {
   "cell_type": "code",
   "execution_count": 1,
   "metadata": {
    "collapsed": true
   },
   "outputs": [],
   "source": [
    "%matplotlib inline \n",
    "import matplotlib.pyplot as plt\n",
    "import numpy as np\n",
    "import pandas as pd\n",
    "from scipy import stats\n",
    "import seaborn as sns\n",
    "import warnings\n",
    "import random\n",
    "from datetime import datetime\n",
    "random.seed(datetime.now())\n",
    "warnings.filterwarnings('ignore')\n",
    "\n",
    "# Make plots larger\n",
    "plt.rcParams['figure.figsize'] = (10, 6)"
   ]
  },
  {
   "cell_type": "markdown",
   "metadata": {
    "collapsed": true
   },
   "source": [
    "## Facebook API Access\n",
    "\n",
    "Facebook implements OAuth 2.0 as its standard authentication mechanism.\n",
    "\n",
    "You need to get an _access token_ by logging in to your Facebook account and go to https://developers.facebook.com/tools/explorer/ to obtain an ACCESS_TOKEN.\n",
    "\n",
    "See [http://facebook-sdk.readthedocs.io/en/latest/api.html](http://facebook-sdk.readthedocs.io/en/latest/api.html)  \n",
    "\n"
   ]
  },
  {
   "cell_type": "code",
   "execution_count": 2,
   "metadata": {
    "collapsed": true
   },
   "outputs": [],
   "source": [
    "# ACCESS_TOKEN = ''\n",
    "\n",
    "ACCESS_TOKEN = 'EAACEdEose0cBABz7rh3DaV8cRCKU3iiQO04TKGGZCItk8AsBX7P9vatRMM88wp5H2ZBNmOuZBGcrLsRyZC4YSPA3kI6mB3D2gH3VlZA2s1rBGNZCiN7SPmJolKv7IW4R9FpvtZA6EfIqkY2A94BltOEJ82sQZC55rfIJBU9KC93iSMUBlmmgaJqtJruODLYQJRwZD'\n"
   ]
  },
  {
   "cell_type": "markdown",
   "metadata": {},
   "source": [
    "Note an _access token_ expires after a while you'll see a message like this if you try to use an expired token.  \n",
    "\n",
    "```python\n",
    "{\n",
    " \"error\": {\n",
    "  \"message\": \"Error validating access token: Session has expired on Wednesday, 25-Oct-17 10:00:00 PDT. The current time is Wednesday, 25-Oct-17 18:55:58 PDT.\",\n",
    "  \"type\": \"OAuthException\",\n",
    "  \"code\": 190,\n",
    "  \"error_subcode\": 463,\n",
    "  \"fbtrace_id\": \"CaF9PR122/j\"\n",
    " }\n",
    "}\n",
    "```"
   ]
  },
  {
   "cell_type": "markdown",
   "metadata": {
    "collapsed": true
   },
   "source": [
    "## Making Graph API requests over HTTP"
   ]
  },
  {
   "cell_type": "code",
   "execution_count": 3,
   "metadata": {},
   "outputs": [
    {
     "name": "stdout",
     "output_type": "stream",
     "text": [
      "https://graph.facebook.com/me?fields=id,name,likes&access_token=EAACEdEose0cBABz7rh3DaV8cRCKU3iiQO04TKGGZCItk8AsBX7P9vatRMM88wp5H2ZBNmOuZBGcrLsRyZC4YSPA3kI6mB3D2gH3VlZA2s1rBGNZCiN7SPmJolKv7IW4R9FpvtZA6EfIqkY2A94BltOEJ82sQZC55rfIJBU9KC93iSMUBlmmgaJqtJruODLYQJRwZD\n"
     ]
    }
   ],
   "source": [
    "import requests # pip install requests\n",
    "import json\n",
    "\n",
    "base_url = 'https://graph.facebook.com/me'\n",
    "\n",
    "# Specify which fields to retrieve\n",
    "fields = 'id,name,likes'\n",
    "\n",
    "url = '{0}?fields={1}&access_token={2}'.format(base_url, fields, ACCESS_TOKEN)\n",
    "print(url)"
   ]
  },
  {
   "cell_type": "code",
   "execution_count": 4,
   "metadata": {},
   "outputs": [
    {
     "name": "stdout",
     "output_type": "stream",
     "text": [
      "{\n",
      " \"id\": \"10103511041486536\",\n",
      " \"name\": \"Nik Bear Brown\"\n",
      "}\n"
     ]
    }
   ],
   "source": [
    "content = requests.get(url).json()\n",
    "print(json.dumps(content, indent=1))"
   ]
  },
  {
   "cell_type": "markdown",
   "metadata": {},
   "source": [
    "## Querying the Graph API with Python\n",
    "\n",
    "Facebook SDK for Python API reference:\n",
    "[http://facebook-sdk.readthedocs.io/en/v2.0.0/api.html](http://facebook-sdk.readthedocs.io/en/v2.0.0/api.html)"
   ]
  },
  {
   "cell_type": "code",
   "execution_count": 5,
   "metadata": {
    "collapsed": true
   },
   "outputs": [],
   "source": [
    "import facebook # pip install facebook-sdk\n",
    "\n",
    "# Valid API versions are '2.1', '2.2', '2.3', '2.4', '2.5', '2.6', '2.7'\n",
    "\n",
    "# Create a connection to the Graph API with your access token\n",
    "g = facebook.GraphAPI(ACCESS_TOKEN, version='2.7')"
   ]
  },
  {
   "cell_type": "code",
   "execution_count": 6,
   "metadata": {},
   "outputs": [
    {
     "name": "stdout",
     "output_type": "stream",
     "text": [
      "{'name': 'Nik Bear Brown', 'id': '10103511041486536'}\n",
      "10103511041486536\n"
     ]
    }
   ],
   "source": [
    "me=g.get_object('me')\n",
    "print (me)\n",
    "print (me['id'])"
   ]
  },
  {
   "cell_type": "markdown",
   "metadata": {},
   "source": [
    "**get_connections**   \n",
    "\n",
    "Returns all connections for a given object as a dict.\n",
    "\n",
    "Parameters  \n",
    "\n",
    "id – A string that is a unique ID for that particular resource.  \n",
    "\n",
    "connection_name - A string that specifies the connection or edge between objects, e.g., feed, friends, groups, likes, posts. If left empty, get_connections will simply return the authenticated user’s basic information.\n"
   ]
  },
  {
   "cell_type": "code",
   "execution_count": 7,
   "metadata": {},
   "outputs": [
    {
     "data": {
      "text/plain": [
       "{'data': [{'created_time': '2017-10-26T01:42:15+0000',\n",
       "   'id': '10103511041486536_10107606779694336',\n",
       "   'story': \"Nik Bear Brown shared SPORTbible's video.\"},\n",
       "  {'created_time': '2017-10-26T01:24:34+0000',\n",
       "   'id': '10103511041486536_10107606695552956',\n",
       "   'message': 'A student had Uber eats    Deliver ice cream in class'},\n",
       "  {'created_time': '2017-10-26T01:12:48+0000',\n",
       "   'id': '10103511041486536_10107606648597056',\n",
       "   'message': 'Just posted a video @ Huntington Avenue YMCA '},\n",
       "  {'created_time': '2017-10-26T01:09:35+0000',\n",
       "   'id': '10103511041486536_10107606633981346',\n",
       "   'message': 'Just posted a photo '},\n",
       "  {'created_time': '2017-10-26T01:07:35+0000',\n",
       "   'id': '10103511041486536_10107606625603136',\n",
       "   'message': 'Just posted a photo @ Huntington Avenue YMCA '},\n",
       "  {'created_time': '2017-10-25T23:23:21+0000',\n",
       "   'id': '10103511041486536_10107606321906746',\n",
       "   'story': \"Nik Bear Brown shared Chknfoot's video.\"},\n",
       "  {'created_time': '2017-10-25T23:21:52+0000',\n",
       "   'id': '10103511041486536_10107606318209156',\n",
       "   'story': \"Nik Bear Brown shared Best of People Are Awesome's episode.\"},\n",
       "  {'created_time': '2017-10-25T21:06:06+0000',\n",
       "   'id': '10103511041486536_10107605977651636',\n",
       "   'message': 'Tpain  ...    quote of the day ...   \"Your quads are so tight I’m surprised you can squat at all!\"',\n",
       "   'story': 'Nik Bear Brown checked in to Boston Common Hotel & Conference Center.'},\n",
       "  {'created_time': '2017-10-25T19:20:32+0000',\n",
       "   'id': '10103511041486536_10107605586730046',\n",
       "   'message': 'Buying yet another adapter for the new MacBook Pro',\n",
       "   'story': 'Nik Bear Brown checked in to Apple Boylston Street.'},\n",
       "  {'created_time': '2017-10-25T18:58:35+0000',\n",
       "   'id': '10103511041486536_10107605484604706',\n",
       "   'message': 'My dream car '},\n",
       "  {'created_time': '2017-10-25T16:50:06+0000',\n",
       "   'id': '10103511041486536_10107605043453776',\n",
       "   'message': 'WOD with Chase',\n",
       "   'story': 'Nik Bear Brown checked in to Reebok CrossFit Back Bay - South End Location.'},\n",
       "  {'created_time': '2017-10-25T16:22:56+0000',\n",
       "   'id': '10103511041486536_10107604976158636',\n",
       "   'story': 'Nik Bear Brown shared a link.'},\n",
       "  {'created_time': '2017-10-25T16:22:48+0000',\n",
       "   'id': '10103511041486536_10107604975844266',\n",
       "   'message': 'UCLA ranked No. 1 U.S. public university by Times Higher Education '},\n",
       "  {'created_time': '2017-10-25T15:30:32+0000',\n",
       "   'id': '10103511041486536_10107604851987476',\n",
       "   'message': 'Tesla Reveals ‘Flagship’ Puerto Rico Project, and It Looks Great by @mikearildbrown https://t.co/TdhNzOj6sR via @inversedotcom'},\n",
       "  {'created_time': '2017-10-25T15:12:27+0000',\n",
       "   'id': '10103511041486536_10107604814123356',\n",
       "   'story': \"Nik Bear Brown shared People Are Awesome's video.\"},\n",
       "  {'created_time': '2017-10-25T15:10:10+0000',\n",
       "   'id': '10103511041486536_10107604809617386',\n",
       "   'message': 'Puerto Rico and Whitefish Energy defend controversial $300 million power contract https://t.co/LO1eh7gLfU via @bi_contributors'},\n",
       "  {'created_time': '2017-10-25T15:09:34+0000',\n",
       "   'id': '10103511041486536_10107604807656316',\n",
       "   'message': 'Tiny Montana Firm Gets $300 Million Contract To Help Restore Power In Puerto Rico '},\n",
       "  {'created_time': '2017-10-25T14:56:41+0000',\n",
       "   'id': '10103511041486536_10107604778155436',\n",
       "   'story': \"Nik Bear Brown shared CBS Sports's video.\"},\n",
       "  {'created_time': '2017-10-25T14:55:46+0000',\n",
       "   'id': '10103511041486536_10107604775720316',\n",
       "   'story': \"Nik Bear Brown shared Anthony Joshua's video.\"},\n",
       "  {'created_time': '2017-10-25T14:52:38+0000',\n",
       "   'id': '10103511041486536_10107604768060666',\n",
       "   'story': \"Nik Bear Brown shared People Are Awesome's video.\"},\n",
       "  {'created_time': '2017-10-25T09:18:14+0000',\n",
       "   'id': '10103511041486536_10107604312169276',\n",
       "   'message': 'Just posted a video @ Conor Larkins Grill & Tap '},\n",
       "  {'created_time': '2017-10-25T09:13:33+0000',\n",
       "   'id': '10103511041486536_10107604309150326',\n",
       "   'message': 'Retweeted alex 🎃 (@KDISAWARRIOR):\\n\\nStephen Curry praying pregame with a kid who lost his father due to a car accident. 🙏🏽🙏🏽🙏🏽 https://t.co/Fdn0C0OM0r'},\n",
       "  {'created_time': '2017-10-25T09:12:51+0000',\n",
       "   'id': '10103511041486536_10107604308641346',\n",
       "   'message': 'Steph Curry spent his pregame time consoling the grieving nephew of Mavericks guard Devin Harris https://t.co/lXZF7MNE4r via @sbnation'},\n",
       "  {'created_time': '2017-10-25T09:11:19+0000',\n",
       "   'id': '10103511041486536_10107604307798036',\n",
       "   'message': 'One of the fired Phoenix Suns coaches roasted the organization on Instagram '},\n",
       "  {'created_time': '2017-10-25T05:40:17+0000',\n",
       "   'id': '10103511041486536_10107603870753876',\n",
       "   'story': 'Nik Bear Brown shared a link.'}],\n",
       " 'paging': {'next': 'https://graph.facebook.com/v2.7/10103511041486536/posts?access_token=EAACEdEose0cBABz7rh3DaV8cRCKU3iiQO04TKGGZCItk8AsBX7P9vatRMM88wp5H2ZBNmOuZBGcrLsRyZC4YSPA3kI6mB3D2gH3VlZA2s1rBGNZCiN7SPmJolKv7IW4R9FpvtZA6EfIqkY2A94BltOEJ82sQZC55rfIJBU9KC93iSMUBlmmgaJqtJruODLYQJRwZD&limit=25&until=1508910017&__paging_token=enc_AdDCr9sBUdZA6xWeQ63Yqg2WPFlzxnzBAqIYpq5Dq4smOwdgj1L8r66eJTkwAQdzJgBbjGw8efHAHY5N07ZBLasyL8',\n",
       "  'previous': 'https://graph.facebook.com/v2.7/10103511041486536/posts?since=1508982135&access_token=EAACEdEose0cBABz7rh3DaV8cRCKU3iiQO04TKGGZCItk8AsBX7P9vatRMM88wp5H2ZBNmOuZBGcrLsRyZC4YSPA3kI6mB3D2gH3VlZA2s1rBGNZCiN7SPmJolKv7IW4R9FpvtZA6EfIqkY2A94BltOEJ82sQZC55rfIJBU9KC93iSMUBlmmgaJqtJruODLYQJRwZD&limit=25&__paging_token=enc_AdBvF6IhG3c8X45Hz3rxOrWkpiPwwZAT3gFXBSpwqdtKj3OZBgkOZAW4pU1pkQfU8JwTxG06S3bzAbiu4InJCiAOFrS&__previous=1'}}"
      ]
     },
     "execution_count": 7,
     "metadata": {},
     "output_type": "execute_result"
    }
   ],
   "source": [
    "g.get_connections(id=me['id'], connection_name='posts')"
   ]
  },
  {
   "cell_type": "code",
   "execution_count": 8,
   "metadata": {},
   "outputs": [
    {
     "data": {
      "text/plain": [
       "{'data': []}"
      ]
     },
     "execution_count": 8,
     "metadata": {},
     "output_type": "execute_result"
    }
   ],
   "source": [
    "g.get_connections(id=me['id'], connection_name='friends')"
   ]
  },
  {
   "cell_type": "code",
   "execution_count": 9,
   "metadata": {},
   "outputs": [
    {
     "data": {
      "text/plain": [
       "{'data': [{'created_time': '2017-10-26T01:42:15+0000',\n",
       "   'id': '10103511041486536_10107606779694336',\n",
       "   'story': \"Nik Bear Brown shared SPORTbible's video.\"},\n",
       "  {'created_time': '2017-10-26T01:24:34+0000',\n",
       "   'id': '10103511041486536_10107606695552956',\n",
       "   'message': 'A student had Uber eats    Deliver ice cream in class'},\n",
       "  {'created_time': '2017-10-26T01:12:48+0000',\n",
       "   'id': '10103511041486536_10107606648597056',\n",
       "   'message': 'Just posted a video @ Huntington Avenue YMCA '},\n",
       "  {'created_time': '2017-10-26T01:09:35+0000',\n",
       "   'id': '10103511041486536_10107606633981346',\n",
       "   'message': 'Just posted a photo '},\n",
       "  {'created_time': '2017-10-26T01:07:35+0000',\n",
       "   'id': '10103511041486536_10107606625603136',\n",
       "   'message': 'Just posted a photo @ Huntington Avenue YMCA '},\n",
       "  {'created_time': '2017-10-25T23:23:21+0000',\n",
       "   'id': '10103511041486536_10107606321906746',\n",
       "   'story': \"Nik Bear Brown shared Chknfoot's video.\"},\n",
       "  {'created_time': '2017-10-25T23:21:52+0000',\n",
       "   'id': '10103511041486536_10107606318209156',\n",
       "   'story': \"Nik Bear Brown shared Best of People Are Awesome's episode.\"},\n",
       "  {'created_time': '2017-10-25T21:06:06+0000',\n",
       "   'id': '10103511041486536_10107605977651636',\n",
       "   'message': 'Tpain  ...    quote of the day ...   \"Your quads are so tight I’m surprised you can squat at all!\"',\n",
       "   'story': 'Nik Bear Brown checked in to Boston Common Hotel & Conference Center.'},\n",
       "  {'created_time': '2017-10-25T19:20:32+0000',\n",
       "   'id': '10103511041486536_10107605586730046',\n",
       "   'message': 'Buying yet another adapter for the new MacBook Pro',\n",
       "   'story': 'Nik Bear Brown checked in to Apple Boylston Street.'},\n",
       "  {'created_time': '2017-10-25T18:58:35+0000',\n",
       "   'id': '10103511041486536_10107605484604706',\n",
       "   'message': 'My dream car '},\n",
       "  {'created_time': '2017-10-25T16:50:06+0000',\n",
       "   'id': '10103511041486536_10107605043453776',\n",
       "   'message': 'WOD with Chase',\n",
       "   'story': 'Nik Bear Brown checked in to Reebok CrossFit Back Bay - South End Location.'},\n",
       "  {'created_time': '2017-10-25T16:22:56+0000',\n",
       "   'id': '10103511041486536_10107604976158636',\n",
       "   'story': 'Nik Bear Brown shared a link.'},\n",
       "  {'created_time': '2017-10-25T16:22:48+0000',\n",
       "   'id': '10103511041486536_10107604975844266',\n",
       "   'message': 'UCLA ranked No. 1 U.S. public university by Times Higher Education '},\n",
       "  {'created_time': '2017-10-25T15:30:32+0000',\n",
       "   'id': '10103511041486536_10107604851987476',\n",
       "   'message': 'Tesla Reveals ‘Flagship’ Puerto Rico Project, and It Looks Great by @mikearildbrown https://t.co/TdhNzOj6sR via @inversedotcom'},\n",
       "  {'created_time': '2017-10-25T15:12:27+0000',\n",
       "   'id': '10103511041486536_10107604814123356',\n",
       "   'story': \"Nik Bear Brown shared People Are Awesome's video.\"},\n",
       "  {'created_time': '2017-10-25T15:10:10+0000',\n",
       "   'id': '10103511041486536_10107604809617386',\n",
       "   'message': 'Puerto Rico and Whitefish Energy defend controversial $300 million power contract https://t.co/LO1eh7gLfU via @bi_contributors'},\n",
       "  {'created_time': '2017-10-25T15:09:34+0000',\n",
       "   'id': '10103511041486536_10107604807656316',\n",
       "   'message': 'Tiny Montana Firm Gets $300 Million Contract To Help Restore Power In Puerto Rico '},\n",
       "  {'created_time': '2017-10-25T14:56:41+0000',\n",
       "   'id': '10103511041486536_10107604778155436',\n",
       "   'story': \"Nik Bear Brown shared CBS Sports's video.\"},\n",
       "  {'created_time': '2017-10-25T14:55:46+0000',\n",
       "   'id': '10103511041486536_10107604775720316',\n",
       "   'story': \"Nik Bear Brown shared Anthony Joshua's video.\"},\n",
       "  {'created_time': '2017-10-25T14:52:38+0000',\n",
       "   'id': '10103511041486536_10107604768060666',\n",
       "   'story': \"Nik Bear Brown shared People Are Awesome's video.\"},\n",
       "  {'created_time': '2017-10-25T09:18:14+0000',\n",
       "   'id': '10103511041486536_10107604312169276',\n",
       "   'message': 'Just posted a video @ Conor Larkins Grill & Tap '},\n",
       "  {'created_time': '2017-10-25T09:13:33+0000',\n",
       "   'id': '10103511041486536_10107604309150326',\n",
       "   'message': 'Retweeted alex 🎃 (@KDISAWARRIOR):\\n\\nStephen Curry praying pregame with a kid who lost his father due to a car accident. 🙏🏽🙏🏽🙏🏽 https://t.co/Fdn0C0OM0r'},\n",
       "  {'created_time': '2017-10-25T09:12:51+0000',\n",
       "   'id': '10103511041486536_10107604308641346',\n",
       "   'message': 'Steph Curry spent his pregame time consoling the grieving nephew of Mavericks guard Devin Harris https://t.co/lXZF7MNE4r via @sbnation'},\n",
       "  {'created_time': '2017-10-25T09:11:19+0000',\n",
       "   'id': '10103511041486536_10107604307798036',\n",
       "   'message': 'One of the fired Phoenix Suns coaches roasted the organization on Instagram '},\n",
       "  {'created_time': '2017-10-25T05:40:17+0000',\n",
       "   'id': '10103511041486536_10107603870753876',\n",
       "   'story': 'Nik Bear Brown shared a link.'}],\n",
       " 'paging': {'next': 'https://graph.facebook.com/v2.7/10103511041486536/feed?access_token=EAACEdEose0cBABz7rh3DaV8cRCKU3iiQO04TKGGZCItk8AsBX7P9vatRMM88wp5H2ZBNmOuZBGcrLsRyZC4YSPA3kI6mB3D2gH3VlZA2s1rBGNZCiN7SPmJolKv7IW4R9FpvtZA6EfIqkY2A94BltOEJ82sQZC55rfIJBU9KC93iSMUBlmmgaJqtJruODLYQJRwZD&limit=25&until=1508910017&__paging_token=enc_AdDCr9sBUdZA6xWeQ63Yqg2WPFlzxnzBAqIYpq5Dq4smOwdgj1L8r66eJTkwAQdzJgBbjGw8efHAHY5N07ZBLasyL8',\n",
       "  'previous': 'https://graph.facebook.com/v2.7/10103511041486536/feed?since=1508982135&access_token=EAACEdEose0cBABz7rh3DaV8cRCKU3iiQO04TKGGZCItk8AsBX7P9vatRMM88wp5H2ZBNmOuZBGcrLsRyZC4YSPA3kI6mB3D2gH3VlZA2s1rBGNZCiN7SPmJolKv7IW4R9FpvtZA6EfIqkY2A94BltOEJ82sQZC55rfIJBU9KC93iSMUBlmmgaJqtJruODLYQJRwZD&limit=25&__paging_token=enc_AdBvF6IhG3c8X45Hz3rxOrWkpiPwwZAT3gFXBSpwqdtKj3OZBgkOZAW4pU1pkQfU8JwTxG06S3bzAbiu4InJCiAOFrS&__previous=1'}}"
      ]
     },
     "execution_count": 9,
     "metadata": {},
     "output_type": "execute_result"
    }
   ],
   "source": [
    "g.get_connections(id=me['id'], connection_name='feed')"
   ]
  },
  {
   "cell_type": "code",
   "execution_count": 10,
   "metadata": {},
   "outputs": [
    {
     "data": {
      "text/plain": [
       "{'data': []}"
      ]
     },
     "execution_count": 10,
     "metadata": {},
     "output_type": "execute_result"
    }
   ],
   "source": [
    "# Get the active user's friends.\n",
    "friends = g.get_connections(id=me['id'], connection_name='friends')\n",
    "friends"
   ]
  },
  {
   "cell_type": "code",
   "execution_count": 11,
   "metadata": {},
   "outputs": [
    {
     "data": {
      "text/plain": [
       "{'data': [{'id': '369463984811',\n",
       "   'location': {'city': 'Boston',\n",
       "    'country': 'United States',\n",
       "    'latitude': 42.338905417641,\n",
       "    'longitude': -71.089107704858,\n",
       "    'state': 'MA',\n",
       "    'street': '360 Huntington Ave',\n",
       "    'zip': '02115'},\n",
       "   'name': 'Northeastern University'},\n",
       "  {'id': '221377624637156',\n",
       "   'location': {'city': 'Boston',\n",
       "    'country': 'United States',\n",
       "    'latitude': 42.33939799554,\n",
       "    'longitude': -71.089470203898,\n",
       "    'state': 'MA',\n",
       "    'street': '400 Huntington Ave',\n",
       "    'zip': '02115'},\n",
       "   'name': 'cabot center At Northeastern University'},\n",
       "  {'id': '1263733323712511',\n",
       "   'location': {'city': 'Boston',\n",
       "    'country': 'United States',\n",
       "    'latitude': 42.3401489,\n",
       "    'longitude': -71.0902509,\n",
       "    'state': 'MA',\n",
       "    'street': '359 Huntington Ave',\n",
       "    'zip': '02115'},\n",
       "   'name': 'B.GOOD'},\n",
       "  {'id': '140665089304566',\n",
       "   'location': {'city': 'Boston',\n",
       "    'country': 'United States',\n",
       "    'latitude': 42.340065900922,\n",
       "    'longitude': -71.090382485003,\n",
       "    'state': 'MA',\n",
       "    'street': '360 Huntington Avenue',\n",
       "    'zip': '02115'},\n",
       "   'name': 'The Marino'},\n",
       "  {'id': '144825432225092',\n",
       "   'location': {'city': 'Boston',\n",
       "    'country': 'United States',\n",
       "    'latitude': 42.33887,\n",
       "    'longitude': -71.08839,\n",
       "    'state': 'MA',\n",
       "    'street': '360 Huntington Avenue, Snell Engineering Center',\n",
       "    'zip': '02115'},\n",
       "   'name': 'Northeastern University College of Engineering'},\n",
       "  {'id': '116447748379419',\n",
       "   'location': {'city': 'Boston',\n",
       "    'country': 'United States',\n",
       "    'latitude': 42.339991564706,\n",
       "    'longitude': -71.090380056364,\n",
       "    'state': 'MA',\n",
       "    'street': '100 Huntington Ave',\n",
       "    'zip': '02115'},\n",
       "   'name': 'Au Bon Pain'},\n",
       "  {'id': '28314922320',\n",
       "   'location': {'city': 'Boston',\n",
       "    'country': 'United States',\n",
       "    'latitude': 42.3393,\n",
       "    'longitude': -71.09452,\n",
       "    'state': 'MA',\n",
       "    'street': '465 Huntington Ave',\n",
       "    'zip': '02115'},\n",
       "   'name': 'Museum of Fine Arts, Boston'},\n",
       "  {'id': '535374026607617',\n",
       "   'location': {'city': 'Boston',\n",
       "    'country': 'United States',\n",
       "    'latitude': 42.3407235,\n",
       "    'longitude': -71.0885461,\n",
       "    'state': 'MA',\n",
       "    'street': '333 Huntington Ave',\n",
       "    'zip': '02115'},\n",
       "   'name': '333 Salon & Barbershop'},\n",
       "  {'id': '75956306157',\n",
       "   'location': {'city': 'Boston',\n",
       "    'country': 'United States',\n",
       "    'latitude': 42.3408864,\n",
       "    'longitude': -71.0881103,\n",
       "    'state': 'MA',\n",
       "    'street': '329 Huntington Ave',\n",
       "    'zip': '02115'},\n",
       "   'name': 'Conor Larkins Grill & Tap'},\n",
       "  {'id': '112439102104396',\n",
       "   'location': {'latitude': 42.3, 'longitude': -71.8},\n",
       "   'name': 'Massachusetts'},\n",
       "  {'id': '139763836094666',\n",
       "   'location': {'city': 'Boston',\n",
       "    'country': 'United States',\n",
       "    'latitude': 42.3411707805,\n",
       "    'longitude': -71.086218517811,\n",
       "    'state': 'MA',\n",
       "    'street': '30 Gainsborough St',\n",
       "    'zip': '02115'},\n",
       "   'name': \"New England Conservatory's Jordan Hall\"},\n",
       "  {'id': '113277498685569',\n",
       "   'location': {'city': 'Ruggles',\n",
       "    'country': 'United States',\n",
       "    'latitude': 41.0294,\n",
       "    'longitude': -82.3925,\n",
       "    'state': 'OH'},\n",
       "   'name': 'Ruggles, Ohio'},\n",
       "  {'id': '400195380049084',\n",
       "   'location': {'city': 'Boston',\n",
       "    'country': 'United States',\n",
       "    'latitude': 42.34281,\n",
       "    'longitude': -71.08569,\n",
       "    'state': 'MA',\n",
       "    'street': '301 Massachusetts Ave',\n",
       "    'zip': '02115'},\n",
       "   'name': 'Symphony Hall Boston'},\n",
       "  {'id': '155105934517714',\n",
       "   'location': {'city': 'Boston',\n",
       "    'country': 'United States',\n",
       "    'latitude': 42.337406891654,\n",
       "    'longitude': -71.09029213541,\n",
       "    'state': 'MA',\n",
       "    'street': '115 Forsyth St',\n",
       "    'zip': '02115'},\n",
       "   'name': 'Shillman Hall'},\n",
       "  {'id': '109409129085890',\n",
       "   'location': {'city': 'Boston',\n",
       "    'country': 'United States',\n",
       "    'latitude': 42.3411,\n",
       "    'longitude': -71.0844,\n",
       "    'state': 'MA',\n",
       "    'street': '238 St Botolph St',\n",
       "    'zip': '02115'},\n",
       "   'name': 'Matthews Arena'},\n",
       "  {'id': '53789717545',\n",
       "   'location': {'city': 'Boston',\n",
       "    'country': 'United States',\n",
       "    'latitude': 42.34742,\n",
       "    'longitude': -71.095695,\n",
       "    'state': 'MA',\n",
       "    'street': '15 Lansdowne St',\n",
       "    'zip': '02215'},\n",
       "   'name': 'House of Blues Boston'},\n",
       "  {'id': '117684651591149',\n",
       "   'location': {'city': 'Boston',\n",
       "    'country': 'United States',\n",
       "    'latitude': 42.346498132482,\n",
       "    'longitude': -71.097200310114,\n",
       "    'state': 'MA',\n",
       "    'street': '4 Yawkey Way',\n",
       "    'zip': '02215'},\n",
       "   'name': 'Fenway Park'},\n",
       "  {'id': '381301838728665',\n",
       "   'location': {'city': 'Boston',\n",
       "    'country': 'United States',\n",
       "    'latitude': 42.347672154677,\n",
       "    'longitude': -71.082357185002,\n",
       "    'state': 'MA',\n",
       "    'street': '800 Boylston St',\n",
       "    'zip': '02199'},\n",
       "   'name': 'Eataly Boston'},\n",
       "  {'id': '703744599652812',\n",
       "   'location': {'city': 'Boston',\n",
       "    'country': 'United States',\n",
       "    'latitude': 42.3462856,\n",
       "    'longitude': -71.0870288,\n",
       "    'state': 'MA',\n",
       "    'street': '160 Massachusetts Ave',\n",
       "    'zip': '02115'},\n",
       "   'name': 'Berklee College of Music - 160 Mass Ave'},\n",
       "  {'id': '28495301197',\n",
       "   'location': {'city': 'Boston',\n",
       "    'country': 'United States',\n",
       "    'latitude': 42.347126634877,\n",
       "    'longitude': -71.08717173,\n",
       "    'state': 'MA',\n",
       "    'street': '1140 Boylston St',\n",
       "    'zip': '02215'},\n",
       "   'name': 'Berklee College of Music'},\n",
       "  {'id': '127722526200',\n",
       "   'location': {'city': 'Boston',\n",
       "    'country': 'United States',\n",
       "    'latitude': 42.336581768457,\n",
       "    'longitude': -71.098973263208,\n",
       "    'state': 'MA',\n",
       "    'street': '621 Huntington Ave',\n",
       "    'zip': '02115'},\n",
       "   'name': 'Massachusetts College of Art and Design'},\n",
       "  {'id': '256005430332',\n",
       "   'location': {'city': 'Boston',\n",
       "    'country': 'United States',\n",
       "    'latitude': 42.337448427115,\n",
       "    'longitude': -71.105739735766,\n",
       "    'state': 'MA',\n",
       "    'street': '300 Longwood Ave',\n",
       "    'zip': '02115'},\n",
       "   'name': \"Boston Children's Hospital\"},\n",
       "  {'id': '286225281420201',\n",
       "   'location': {'city': 'Boston',\n",
       "    'country': 'United States',\n",
       "    'latitude': 42.355374048119,\n",
       "    'longitude': -71.062918482981,\n",
       "    'state': 'MA',\n",
       "    'zip': '02108'},\n",
       "   'name': 'Downtown Boston'},\n",
       "  {'id': '23619335962',\n",
       "   'location': {'city': 'Boston',\n",
       "    'country': 'United States',\n",
       "    'latitude': 42.3383753,\n",
       "    'longitude': -71.0986195,\n",
       "    'state': 'MA',\n",
       "    'street': '25 Evans Way',\n",
       "    'zip': '02115'},\n",
       "   'name': 'Isabella Stewart Gardner Museum'},\n",
       "  {'id': '112070142203026',\n",
       "   'location': {'city': 'Boston',\n",
       "    'country': 'United States',\n",
       "    'latitude': 42.337125907069,\n",
       "    'longitude': -71.103606554238,\n",
       "    'state': 'MA',\n",
       "    'street': '25 Shattuck St',\n",
       "    'zip': '02115'},\n",
       "   'name': 'Harvard Medical School'}],\n",
       " 'paging': {'cursors': {'after': 'MjQZD'},\n",
       "  'next': 'https://graph.facebook.com/v2.5/search?access_token=EAACEdEose0cBABz7rh3DaV8cRCKU3iiQO04TKGGZCItk8AsBX7P9vatRMM88wp5H2ZBNmOuZBGcrLsRyZC4YSPA3kI6mB3D2gH3VlZA2s1rBGNZCiN7SPmJolKv7IW4R9FpvtZA6EfIqkY2A94BltOEJ82sQZC55rfIJBU9KC93iSMUBlmmgaJqtJruODLYQJRwZD&fields=name%2C+location&type=place&center=42.3398%2C+-71.0892&limit=25&after=MjQZD'}}"
      ]
     },
     "execution_count": 11,
     "metadata": {},
     "output_type": "execute_result"
    }
   ],
   "source": [
    "# Search for a location\n",
    "# Northeastern University  42.3398° N, 71.0892° W\n",
    "g.request(\"search\", {'type': 'place', 'center': '42.3398, -71.0892', 'fields': 'name, location'})"
   ]
  },
  {
   "cell_type": "code",
   "execution_count": 12,
   "metadata": {},
   "outputs": [
    {
     "data": {
      "text/plain": [
       "{'data': [{'id': '1702636290014822', 'name': 'Nik Bear Brown'}],\n",
       " 'paging': {'next': 'https://graph.facebook.com/v2.5/search?type=user&q=Nik+Bear+Brown&access_token=EAACEdEose0cBABz7rh3DaV8cRCKU3iiQO04TKGGZCItk8AsBX7P9vatRMM88wp5H2ZBNmOuZBGcrLsRyZC4YSPA3kI6mB3D2gH3VlZA2s1rBGNZCiN7SPmJolKv7IW4R9FpvtZA6EfIqkY2A94BltOEJ82sQZC55rfIJBU9KC93iSMUBlmmgaJqtJruODLYQJRwZD&limit=25&offset=25&__after_id=enc_AdA5Sv0ZBWjxJ04uEZBOnuavWAbnNJovZBcKmPRIxoQ3XcIon2EoFFDC0LfabwsjsOidSrnkGQvFcKVhmJdYLZBRIrM4'}}"
      ]
     },
     "execution_count": 12,
     "metadata": {},
     "output_type": "execute_result"
    }
   ],
   "source": [
    "# Search for a user\n",
    "g.request(\"search\", {'q': 'Nik Bear Brown', 'type': 'user'})"
   ]
  },
  {
   "cell_type": "code",
   "execution_count": 13,
   "metadata": {},
   "outputs": [
    {
     "data": {
      "text/plain": [
       "{'data': [{'id': '472081616289751',\n",
       "   'name': 'Deep Learning - Artificial Intelligence'},\n",
       "  {'id': '894581557318208', 'name': 'DeepLearning'},\n",
       "  {'id': '196719883702231', 'name': 'Deep Portage Learning Center'},\n",
       "  {'id': '569123369961174',\n",
       "   'name': 'Machine Learning & Deep Learning Community'},\n",
       "  {'id': '688043577996671', 'name': 'Deep Learning'},\n",
       "  {'id': '432125483617524', 'name': 'Deep learning'},\n",
       "  {'id': '1670015779949130', 'name': 'DeepLearning.TV'},\n",
       "  {'id': '1416774648346941', 'name': 'Deep learning'},\n",
       "  {'id': '956632644391529', 'name': 'Deep Learning Graz'},\n",
       "  {'id': '481610891877881', 'name': 'Deep Learning Japan'},\n",
       "  {'id': '574431582716563', 'name': 'Deep Learning Vietnam'},\n",
       "  {'id': '190201717731858', 'name': 'Deep learning'},\n",
       "  {'id': '1026469390701316', 'name': 'DEEP Learning'},\n",
       "  {'id': '138778696757888', 'name': 'Deep Learning'},\n",
       "  {'id': '176391499583810', 'name': 'Deep Learning'},\n",
       "  {'id': '130947707384279', 'name': 'Deep Learning'},\n",
       "  {'id': '128263191142772', 'name': 'Deep Learning'},\n",
       "  {'id': '1521876938105211', 'name': 'Skin Deep Learning'},\n",
       "  {'id': '376293852706755',\n",
       "   'name': 'Machine Learning, Deep Learning, Big Data - Brasil'},\n",
       "  {'id': '1881418488780336', 'name': 'Deep Learning'},\n",
       "  {'id': '359992907468106',\n",
       "   'name': 'Deep Root Center for Self-Directed Learning'},\n",
       "  {'id': '232143806989074', 'name': 'Deep Learning'},\n",
       "  {'id': '976433915744062', 'name': 'Deep Learning'},\n",
       "  {'id': '506185396173318', 'name': 'Deep Learning for Motions - TerryUm.io'},\n",
       "  {'id': '264011980786093', 'name': 'Deep Learning'}],\n",
       " 'paging': {'cursors': {'after': 'MjQZD', 'before': 'MAZDZD'},\n",
       "  'next': 'https://graph.facebook.com/v2.5/search?access_token=EAACEdEose0cBABz7rh3DaV8cRCKU3iiQO04TKGGZCItk8AsBX7P9vatRMM88wp5H2ZBNmOuZBGcrLsRyZC4YSPA3kI6mB3D2gH3VlZA2s1rBGNZCiN7SPmJolKv7IW4R9FpvtZA6EfIqkY2A94BltOEJ82sQZC55rfIJBU9KC93iSMUBlmmgaJqtJruODLYQJRwZD&q=Deep+Learning&type=page&limit=25&after=MjQZD'}}"
      ]
     },
     "execution_count": 13,
     "metadata": {},
     "output_type": "execute_result"
    }
   ],
   "source": [
    "# Search for a page\n",
    "g.request(\"search\", {'q': 'Deep Learning', 'type': 'page'})"
   ]
  },
  {
   "cell_type": "code",
   "execution_count": 14,
   "metadata": {},
   "outputs": [
    {
     "data": {
      "text/plain": [
       "{'data': [{'id': '5842919894', 'name': 'Blake Shelton'},\n",
       "  {'id': '382331405499941', 'name': 'BlakeShelton'},\n",
       "  {'id': '892610480751077', 'name': 'Blake Shelton Fan Club'},\n",
       "  {'id': '290667981090971', 'name': 'Blake Shelton Fans'},\n",
       "  {'id': '1102815056447162', 'name': 'Blake Shelton Now'},\n",
       "  {'id': '699155596829469', 'name': 'I Love Blake Shelton'},\n",
       "  {'id': '554929441230345', 'name': 'Blake Shelton Brasil'},\n",
       "  {'id': '152138128720894', 'name': 'Blake Shelton voice'},\n",
       "  {'id': '190320017808093', 'name': 'Blake Shelton Fan Club'},\n",
       "  {'id': '121952798499245', 'name': 'Blake-Shelton'},\n",
       "  {'id': '138992339896076', 'name': 'SNHU Blake Shelton'},\n",
       "  {'id': '139963222877138',\n",
       "   'name': 'Blake Shelton at Virginia Beach Amphitheatre'},\n",
       "  {'id': '140531403153446',\n",
       "   'name': 'Blake Shelton, Doak After Dark, Tallahassee, Fl'},\n",
       "  {'id': '139332256129941', 'name': 'Not the Blake Shelton Concert :('},\n",
       "  {'id': '138817339532240', 'name': 'Blake Shelton Conert!'},\n",
       "  {'id': '138182489601988', 'name': 'Blake Shelton Concert'},\n",
       "  {'id': '133920403397890', 'name': \"Blake Shelton's Bed\"},\n",
       "  {'id': '133625550131111', 'name': \"Blake Shelton's Bed\"},\n",
       "  {'id': '132899743506073', 'name': 'Blake Shelton H P Pavilion'},\n",
       "  {'id': '132435920218002', 'name': 'Blake Shelton <3'},\n",
       "  {'id': '131984090782112', 'name': 'Blake Shelton Concert'},\n",
       "  {'id': '131810846884224', 'name': 'Blake Shelton-Cape Girardeau'},\n",
       "  {'id': '131440703590175', 'name': 'Blake Shelton Concert'},\n",
       "  {'id': '130793517001186',\n",
       "   'name': 'Brad Paisley/Blake Shelton/Jerrod Neimann'},\n",
       "  {'id': '130312783743912', 'name': 'Nascars Blake. Shelton on the beach'}],\n",
       " 'paging': {'cursors': {'after': 'MjQZD', 'before': 'MAZDZD'},\n",
       "  'next': 'https://graph.facebook.com/v2.5/search?access_token=EAACEdEose0cBABz7rh3DaV8cRCKU3iiQO04TKGGZCItk8AsBX7P9vatRMM88wp5H2ZBNmOuZBGcrLsRyZC4YSPA3kI6mB3D2gH3VlZA2s1rBGNZCiN7SPmJolKv7IW4R9FpvtZA6EfIqkY2A94BltOEJ82sQZC55rfIJBU9KC93iSMUBlmmgaJqtJruODLYQJRwZD&q=Blake+Shelton&type=page&limit=25&after=MjQZD'}}"
      ]
     },
     "execution_count": 14,
     "metadata": {},
     "output_type": "execute_result"
    }
   ],
   "source": [
    "# Search for a page\n",
    "g.request(\"search\", {'q': 'Blake Shelton', 'type': 'page'})"
   ]
  },
  {
   "cell_type": "markdown",
   "metadata": {},
   "source": [
    "## Counting total number of page fans "
   ]
  },
  {
   "cell_type": "code",
   "execution_count": 15,
   "metadata": {},
   "outputs": [
    {
     "data": {
      "text/plain": [
       "{'data': [{'created_time': '2017-10-24T21:59:25+0000',\n",
       "   'id': '5842919894_10155217651859895',\n",
       "   'message': '\\u202aBaby let’s get right down to business… #TexomaShore #IllNameTheDogs 👉🏻https://wmna.sh/bstexomashore'},\n",
       "  {'created_time': '2017-10-24T16:19:07+0000',\n",
       "   'id': '5842919894_10155217028199895',\n",
       "   'message': \"I’m kicking off my new clothing line at Macy's Herald Sq. in NYC on 11/2! First 100 of y’all to buy your first BS by Blake Shelton item gets to hang with me… who’s in?? https://www.macys.com/social/events/event/?id=21341\"},\n",
       "  {'created_time': '2017-10-23T15:55:45+0000',\n",
       "   'id': '5842919894_10155214701029895',\n",
       "   'message': 'All y’all BSers want the first look at some exclusive shit?? Join the Official BSers Group here!',\n",
       "   'story': 'Blake Shelton shared a group.'},\n",
       "  {'created_time': '2017-10-18T21:37:25+0000',\n",
       "   'id': '5842919894_1574603665910310',\n",
       "   'message': 'And the fourth Coach for The Voice Season 14 is...\\n- Team BS'},\n",
       "  {'created_time': '2017-10-16T16:30:04+0000',\n",
       "   'id': '5842919894_10155196894999895',\n",
       "   'message': \"\\u202aCountdown to #TexomaShore is on y'all!! Preorder to get the new single! https://wmna.sh/bstexomashore\\u202c\"},\n",
       "  {'created_time': '2017-10-12T22:55:56+0000',\n",
       "   'id': '5842919894_10155188396619895',\n",
       "   'message': 'Nashville!! Lets cheers to new music! FREE Pandora #SoundsLikeCountry show on 11/3 at Oz Arts with Maggie Rose! RSVP here: http://pdora.co/2kJNgRY'},\n",
       "  {'created_time': '2017-10-11T22:39:49+0000',\n",
       "   'id': '5842919894_10155186011109895',\n",
       "   'message': 'Some damn good bundles for #TexomaShore pre-order… Go get ‘em! - Team BS https://wmna.sh/bs_texomashorebundle'},\n",
       "  {'created_time': '2017-10-06T17:00:56+0000',\n",
       "   'id': '5842919894_10155173582959895',\n",
       "   'message': \"Pre-order Blake's new album, Texoma Shore, now! wmna.sh/bstexomashore\",\n",
       "   'story': 'Blake Shelton updated their cover photo.'},\n",
       "  {'created_time': '2017-10-04T02:44:27+0000',\n",
       "   'id': '5842919894_10155166855999895',\n",
       "   'story': \"Blake Shelton shared Carpool Karaoke's video.\"},\n",
       "  {'created_time': '2017-10-03T14:18:55+0000',\n",
       "   'id': '5842919894_10155165353369895',\n",
       "   'message': '\\u202aGo behind the scenes of the new single!! #IllNameTheDogs'},\n",
       "  {'created_time': '2017-10-02T14:15:31+0000',\n",
       "   'id': '5842919894_10155162961779895',\n",
       "   'message': \"\\u202aMy deepest sympathies and prayers to anyone who has been affected by the Vegas shooting last night. I don't even know anymore... Why?\\u202c\"},\n",
       "  {'created_time': '2017-10-01T18:25:05+0000',\n",
       "   'id': '5842919894_10155161088989895',\n",
       "   'message': 'Thank you Tish!!! #Home',\n",
       "   'story': 'Blake Shelton added a photo and a video — at Ole Red Tishomingo.'},\n",
       "  {'created_time': '2017-10-01T01:55:03+0000',\n",
       "   'id': '5842919894_10155159517359895',\n",
       "   'story': \"Blake Shelton shared Ole Red Tishomingo's live video.\"},\n",
       "  {'created_time': '2017-09-30T14:53:49+0000',\n",
       "   'id': '5842919894_10155158114444895',\n",
       "   'message': \"\\u202aCheers to everyone making the Ole Red Tish opening possible.. let's party tonight Tishomingo!!\",\n",
       "   'story': 'Blake Shelton added 2 new photos — at Ole Red Tishomingo.'},\n",
       "  {'created_time': '2017-09-30T01:08:42+0000',\n",
       "   'id': '5842919894_10155156876379895',\n",
       "   'story': \"Blake Shelton shared Ole Red Tishomingo's live video.\"},\n",
       "  {'created_time': '2017-09-29T19:15:20+0000',\n",
       "   'id': '5842919894_10155156221519895',\n",
       "   'story': \"Blake Shelton shared Ole Red Tishomingo's post.\"},\n",
       "  {'created_time': '2017-09-28T15:19:50+0000',\n",
       "   'id': '5842919894_10155153146274895',\n",
       "   'message': \"Headed back toward Lake Texoma this weekend.. thanks to yall who've preordered #TexomaShore!! https://wmna.sh/bstexomashore\"},\n",
       "  {'created_time': '2017-09-28T15:05:00+0000',\n",
       "   'id': '5842919894_10155153115664895',\n",
       "   'message': 'Dang!! We’ve got tons of #TexomaShore pre-order bundles in the store for ya right now! - Team BS https://wmna.sh/bs_texomashorebundle',\n",
       "   'story': 'Blake Shelton added 5 new photos.'},\n",
       "  {'created_time': '2017-09-25T23:56:13+0000',\n",
       "   'id': '5842919894_10155147057029895',\n",
       "   'message': 'Tonight NBC The Voice is back!!!!! And sadly so is Adam.... Tune in anyway!!!!',\n",
       "   'story': 'Blake Shelton was watching The Voice.'},\n",
       "  {'created_time': '2017-09-22T13:28:58+0000',\n",
       "   'id': '5842919894_10155137704204895',\n",
       "   'message': \"\\u202aY'all I'm excited to get this out!! Preorder #TexomaShore, available November 3rd! https://wmna.sh/bstexomashore\\u202c\"},\n",
       "  {'created_time': '2017-09-22T13:14:37+0000',\n",
       "   'id': '5842919894_10155137675439895',\n",
       "   'message': 'wmna.sh/bstexomashore',\n",
       "   'story': 'Blake Shelton updated their profile picture.'},\n",
       "  {'created_time': '2017-09-22T13:14:26+0000',\n",
       "   'id': '5842919894_10155137674944895',\n",
       "   'message': 'wmna.sh/bstexomashore',\n",
       "   'story': 'Blake Shelton updated their cover photo.'},\n",
       "  {'created_time': '2017-09-21T22:58:48+0000',\n",
       "   'id': '5842919894_10155136368594895',\n",
       "   'message': 'Tomorrow!! Preorder #TexomaShore'},\n",
       "  {'created_time': '2017-09-21T17:24:20+0000',\n",
       "   'id': '5842919894_10155135678459895',\n",
       "   'message': \"YEEEHAWW who's ready for some more new music??!! #TexomaShore coming at y'all November 3rd preorder TOMORROW!\"},\n",
       "  {'created_time': '2017-09-21T16:55:53+0000',\n",
       "   'id': '5842919894_10155135625929895',\n",
       "   'message': 'Hot DANG! Who’s that on the cover of Spotify Hot Country?! - Team BS https://wmna.sh/bs_hotcountry'}],\n",
       " 'paging': {'next': 'https://graph.facebook.com/v2.7/5842919894/posts?access_token=EAACEdEose0cBABz7rh3DaV8cRCKU3iiQO04TKGGZCItk8AsBX7P9vatRMM88wp5H2ZBNmOuZBGcrLsRyZC4YSPA3kI6mB3D2gH3VlZA2s1rBGNZCiN7SPmJolKv7IW4R9FpvtZA6EfIqkY2A94BltOEJ82sQZC55rfIJBU9KC93iSMUBlmmgaJqtJruODLYQJRwZD&limit=25&until=1506012953&__paging_token=enc_AdDtXTFYOZBaEx96DH8fBYOIPFaPZCggQm2XGyDOdM7PSzqsVXyUcjueus9N9IDUoIePSZAj9U7xM8p2JkLtYkd7Lpi',\n",
       "  'previous': 'https://graph.facebook.com/v2.7/5842919894/posts?since=1508882365&access_token=EAACEdEose0cBABz7rh3DaV8cRCKU3iiQO04TKGGZCItk8AsBX7P9vatRMM88wp5H2ZBNmOuZBGcrLsRyZC4YSPA3kI6mB3D2gH3VlZA2s1rBGNZCiN7SPmJolKv7IW4R9FpvtZA6EfIqkY2A94BltOEJ82sQZC55rfIJBU9KC93iSMUBlmmgaJqtJruODLYQJRwZD&limit=25&__paging_token=enc_AdDC8k9Dkm0Oy5NZBLWsYktJrUVGjPwgQDqYpFuy9hQtZBUxsZBIXcZCWTB0iyXZBvaVpkGEZCYzShYiLTLXywusWNilDM&__previous=1'}}"
      ]
     },
     "execution_count": 15,
     "metadata": {},
     "output_type": "execute_result"
    }
   ],
   "source": [
    "voice=['blakeshelton','MileyCyrus','jenniferhudson','OfficialAdamLevine']\n",
    "feed = g.get_connections(voice[0], 'posts')\n",
    "feed"
   ]
  },
  {
   "cell_type": "code",
   "execution_count": 16,
   "metadata": {
    "collapsed": true
   },
   "outputs": [],
   "source": [
    "def retrieve_page_feed(page_id, n_posts):\n",
    "    \"\"\"Retrieve the first n_posts from a page's feed in reverse\n",
    "    chronological order.\"\"\"\n",
    "    feed = g.get_connections(page_id, 'posts')\n",
    "    posts = []\n",
    "    posts.extend(feed['data'])\n",
    "\n",
    "    while len(posts) < n_posts:\n",
    "        try:\n",
    "            feed = requests.get(feed['paging']['next']).json()\n",
    "            posts.extend(feed['data'])\n",
    "        except KeyError:\n",
    "            # When there are no more posts in the feed, break\n",
    "            print('Reached end of feed.')\n",
    "            break\n",
    "            \n",
    "    if len(posts) > n_posts:\n",
    "        posts = posts[:n_posts]\n",
    "\n",
    "    print('{} items retrieved from feed'.format(len(posts)))\n",
    "    return posts"
   ]
  },
  {
   "cell_type": "code",
   "execution_count": 17,
   "metadata": {},
   "outputs": [
    {
     "name": "stdout",
     "output_type": "stream",
     "text": [
      "33 items retrieved from feed\n"
     ]
    },
    {
     "data": {
      "text/plain": [
       "[{'created_time': '2017-10-24T21:59:25+0000',\n",
       "  'id': '5842919894_10155217651859895',\n",
       "  'message': '\\u202aBaby let’s get right down to business… #TexomaShore #IllNameTheDogs 👉🏻https://wmna.sh/bstexomashore'},\n",
       " {'created_time': '2017-10-24T16:19:07+0000',\n",
       "  'id': '5842919894_10155217028199895',\n",
       "  'message': \"I’m kicking off my new clothing line at Macy's Herald Sq. in NYC on 11/2! First 100 of y’all to buy your first BS by Blake Shelton item gets to hang with me… who’s in?? https://www.macys.com/social/events/event/?id=21341\"},\n",
       " {'created_time': '2017-10-23T15:55:45+0000',\n",
       "  'id': '5842919894_10155214701029895',\n",
       "  'message': 'All y’all BSers want the first look at some exclusive shit?? Join the Official BSers Group here!',\n",
       "  'story': 'Blake Shelton shared a group.'},\n",
       " {'created_time': '2017-10-18T21:37:25+0000',\n",
       "  'id': '5842919894_1574603665910310',\n",
       "  'message': 'And the fourth Coach for The Voice Season 14 is...\\n- Team BS'},\n",
       " {'created_time': '2017-10-16T16:30:04+0000',\n",
       "  'id': '5842919894_10155196894999895',\n",
       "  'message': \"\\u202aCountdown to #TexomaShore is on y'all!! Preorder to get the new single! https://wmna.sh/bstexomashore\\u202c\"},\n",
       " {'created_time': '2017-10-12T22:55:56+0000',\n",
       "  'id': '5842919894_10155188396619895',\n",
       "  'message': 'Nashville!! Lets cheers to new music! FREE Pandora #SoundsLikeCountry show on 11/3 at Oz Arts with Maggie Rose! RSVP here: http://pdora.co/2kJNgRY'},\n",
       " {'created_time': '2017-10-11T22:39:49+0000',\n",
       "  'id': '5842919894_10155186011109895',\n",
       "  'message': 'Some damn good bundles for #TexomaShore pre-order… Go get ‘em! - Team BS https://wmna.sh/bs_texomashorebundle'},\n",
       " {'created_time': '2017-10-06T17:00:56+0000',\n",
       "  'id': '5842919894_10155173582959895',\n",
       "  'message': \"Pre-order Blake's new album, Texoma Shore, now! wmna.sh/bstexomashore\",\n",
       "  'story': 'Blake Shelton updated their cover photo.'},\n",
       " {'created_time': '2017-10-04T02:44:27+0000',\n",
       "  'id': '5842919894_10155166855999895',\n",
       "  'story': \"Blake Shelton shared Carpool Karaoke's video.\"},\n",
       " {'created_time': '2017-10-03T14:18:55+0000',\n",
       "  'id': '5842919894_10155165353369895',\n",
       "  'message': '\\u202aGo behind the scenes of the new single!! #IllNameTheDogs'},\n",
       " {'created_time': '2017-10-02T14:15:31+0000',\n",
       "  'id': '5842919894_10155162961779895',\n",
       "  'message': \"\\u202aMy deepest sympathies and prayers to anyone who has been affected by the Vegas shooting last night. I don't even know anymore... Why?\\u202c\"},\n",
       " {'created_time': '2017-10-01T18:25:05+0000',\n",
       "  'id': '5842919894_10155161088989895',\n",
       "  'message': 'Thank you Tish!!! #Home',\n",
       "  'story': 'Blake Shelton added a photo and a video — at Ole Red Tishomingo.'},\n",
       " {'created_time': '2017-10-01T01:55:03+0000',\n",
       "  'id': '5842919894_10155159517359895',\n",
       "  'story': \"Blake Shelton shared Ole Red Tishomingo's live video.\"},\n",
       " {'created_time': '2017-09-30T14:53:49+0000',\n",
       "  'id': '5842919894_10155158114444895',\n",
       "  'message': \"\\u202aCheers to everyone making the Ole Red Tish opening possible.. let's party tonight Tishomingo!!\",\n",
       "  'story': 'Blake Shelton added 2 new photos — at Ole Red Tishomingo.'},\n",
       " {'created_time': '2017-09-30T01:08:42+0000',\n",
       "  'id': '5842919894_10155156876379895',\n",
       "  'story': \"Blake Shelton shared Ole Red Tishomingo's live video.\"},\n",
       " {'created_time': '2017-09-29T19:15:20+0000',\n",
       "  'id': '5842919894_10155156221519895',\n",
       "  'story': \"Blake Shelton shared Ole Red Tishomingo's post.\"},\n",
       " {'created_time': '2017-09-28T15:19:50+0000',\n",
       "  'id': '5842919894_10155153146274895',\n",
       "  'message': \"Headed back toward Lake Texoma this weekend.. thanks to yall who've preordered #TexomaShore!! https://wmna.sh/bstexomashore\"},\n",
       " {'created_time': '2017-09-28T15:05:00+0000',\n",
       "  'id': '5842919894_10155153115664895',\n",
       "  'message': 'Dang!! We’ve got tons of #TexomaShore pre-order bundles in the store for ya right now! - Team BS https://wmna.sh/bs_texomashorebundle',\n",
       "  'story': 'Blake Shelton added 5 new photos.'},\n",
       " {'created_time': '2017-09-25T23:56:13+0000',\n",
       "  'id': '5842919894_10155147057029895',\n",
       "  'message': 'Tonight NBC The Voice is back!!!!! And sadly so is Adam.... Tune in anyway!!!!',\n",
       "  'story': 'Blake Shelton was watching The Voice.'},\n",
       " {'created_time': '2017-09-22T13:28:58+0000',\n",
       "  'id': '5842919894_10155137704204895',\n",
       "  'message': \"\\u202aY'all I'm excited to get this out!! Preorder #TexomaShore, available November 3rd! https://wmna.sh/bstexomashore\\u202c\"},\n",
       " {'created_time': '2017-09-22T13:14:37+0000',\n",
       "  'id': '5842919894_10155137675439895',\n",
       "  'message': 'wmna.sh/bstexomashore',\n",
       "  'story': 'Blake Shelton updated their profile picture.'},\n",
       " {'created_time': '2017-09-22T13:14:26+0000',\n",
       "  'id': '5842919894_10155137674944895',\n",
       "  'message': 'wmna.sh/bstexomashore',\n",
       "  'story': 'Blake Shelton updated their cover photo.'},\n",
       " {'created_time': '2017-09-21T22:58:48+0000',\n",
       "  'id': '5842919894_10155136368594895',\n",
       "  'message': 'Tomorrow!! Preorder #TexomaShore'},\n",
       " {'created_time': '2017-09-21T17:24:20+0000',\n",
       "  'id': '5842919894_10155135678459895',\n",
       "  'message': \"YEEEHAWW who's ready for some more new music??!! #TexomaShore coming at y'all November 3rd preorder TOMORROW!\"},\n",
       " {'created_time': '2017-09-21T16:55:53+0000',\n",
       "  'id': '5842919894_10155135625929895',\n",
       "  'message': 'Hot DANG! Who’s that on the cover of Spotify Hot Country?! - Team BS https://wmna.sh/bs_hotcountry'},\n",
       " {'created_time': '2017-09-18T16:53:45+0000',\n",
       "  'id': '5842919894_10155127214494895',\n",
       "  'message': 'This is awesome!'},\n",
       " {'created_time': '2017-09-18T01:51:20+0000',\n",
       "  'id': '5842919894_10155125854084895',\n",
       "  'message': '\\u202aCongrats to my voice family for ANOTHER #Emmy!!!!',\n",
       "  'story': 'Blake Shelton was watching the Emmys.'},\n",
       " {'created_time': '2017-09-16T14:19:46+0000',\n",
       "  'id': '5842919894_10155122145739895',\n",
       "  'message': 'This is so good... Eddie and Troy have made some great records over the years. This is the latest..'},\n",
       " {'created_time': '2017-09-15T21:31:41+0000',\n",
       "  'id': '5842919894_10155120591819895',\n",
       "  'message': \"Damn!! Glad y'all like this tune as much as I do.. love y'all #IllNameTheDogs\"},\n",
       " {'created_time': '2017-09-14T16:58:46+0000',\n",
       "  'id': '5842919894_10155117351669895',\n",
       "  'message': 'Let’s make this one count!!! Join me in Colorado Springs, CO on 9/16 for the last stop of my Doing It To Country Songs Tour. And while you’re at it, don’t forget to stop by the Nissan TITAN booth.',\n",
       "  'story': 'Blake Shelton with Nissan.'},\n",
       " {'created_time': '2017-09-14T15:13:00+0000',\n",
       "  'id': '5842919894_10155113277494895',\n",
       "  'message': 'Hell yeah, thanks Amazon Music for adding “I’ll Name The Dogs” to #FreshCountry. – Team BS'},\n",
       " {'created_time': '2017-09-13T23:08:22+0000',\n",
       "  'id': '5842919894_10155115661239895',\n",
       "  'message': 'Well hell who let me on the cover of Spotify?'},\n",
       " {'created_time': '2017-09-13T10:58:55+0000',\n",
       "  'id': '5842919894_10155114342059895',\n",
       "  'story': \"Blake Shelton shared Usher's post.\"}]"
      ]
     },
     "execution_count": 17,
     "metadata": {},
     "output_type": "execute_result"
    }
   ],
   "source": [
    "bs=retrieve_page_feed(voice[0], 33)\n",
    "bs"
   ]
  },
  {
   "cell_type": "code",
   "execution_count": 18,
   "metadata": {},
   "outputs": [
    {
     "data": {
      "text/plain": [
       "'5842919894_10155217651859895'"
      ]
     },
     "execution_count": 18,
     "metadata": {},
     "output_type": "execute_result"
    }
   ],
   "source": [
    "bs[0]['id']"
   ]
  },
  {
   "cell_type": "code",
   "execution_count": 19,
   "metadata": {
    "collapsed": true
   },
   "outputs": [],
   "source": [
    "def fan_count(page_id):\n",
    "    return int(g.get_object(id=page_id, fields=['fan_count'])['fan_count'])"
   ]
  },
  {
   "cell_type": "code",
   "execution_count": 20,
   "metadata": {},
   "outputs": [
    {
     "data": {
      "text/plain": [
       "9327034"
      ]
     },
     "execution_count": 20,
     "metadata": {},
     "output_type": "execute_result"
    }
   ],
   "source": [
    "bs_fc=fan_count(voice[0])\n",
    "bs_fc"
   ]
  },
  {
   "cell_type": "code",
   "execution_count": 21,
   "metadata": {
    "collapsed": true
   },
   "outputs": [],
   "source": [
    "def post_engagement(post_id):\n",
    "    likes = g.get_object(id=post_id, \n",
    "                         fields=['likes.limit(0).summary(true)'])\\\n",
    "                         ['likes']['summary']['total_count']\n",
    "    shares = g.get_object(id=post_id, \n",
    "                         fields=['shares.limit(0).summary(true)'])\\\n",
    "                         ['shares']['count']\n",
    "    comments = g.get_object(id=post_id, \n",
    "                         fields=['comments.limit(0).summary(true)'])\\\n",
    "                         ['comments']['summary']['total_count']\n",
    "    return likes, shares, comments"
   ]
  },
  {
   "cell_type": "code",
   "execution_count": 22,
   "metadata": {},
   "outputs": [
    {
     "data": {
      "text/plain": [
       "(632, 23, 25)"
      ]
     },
     "execution_count": 22,
     "metadata": {},
     "output_type": "execute_result"
    }
   ],
   "source": [
    "engagement = post_engagement(bs[0]['id'])\n",
    "engagement  # likes, shares, comments"
   ]
  },
  {
   "cell_type": "code",
   "execution_count": 23,
   "metadata": {
    "collapsed": true
   },
   "outputs": [],
   "source": [
    "def relative_engagement(e, total_fans):\n",
    "    a=[]\n",
    "    for i in e:\n",
    "        a.append(i/total_fans)\n",
    "    return a        "
   ]
  },
  {
   "cell_type": "code",
   "execution_count": 24,
   "metadata": {},
   "outputs": [
    {
     "data": {
      "text/plain": [
       "[6.776001888703311e-05, 2.465950054433167e-06, 2.6803804939490946e-06]"
      ]
     },
     "execution_count": 24,
     "metadata": {},
     "output_type": "execute_result"
    }
   ],
   "source": [
    "# Measure the relative share of a page's fans engaging with a post\n",
    "re=relative_engagement(engagement,bs_fc)\n",
    "re"
   ]
  },
  {
   "cell_type": "markdown",
   "metadata": {},
   "source": [
    "Last update October 3, 2017 \n",
    "\n",
    "The text is released under the [CC-BY-NC-ND license](https://creativecommons.org/licenses/by-nc-nd/3.0/us/legalcode), and code is released under the [MIT license](https://opensource.org/licenses/MIT)."
   ]
  }
 ],
 "metadata": {
  "kernelspec": {
   "display_name": "Python 3",
   "language": "python",
   "name": "python3"
  },
  "language_info": {
   "codemirror_mode": {
    "name": "ipython",
    "version": 3
   },
   "file_extension": ".py",
   "mimetype": "text/x-python",
   "name": "python",
   "nbconvert_exporter": "python",
   "pygments_lexer": "ipython3",
   "version": "3.6.1"
  }
 },
 "nbformat": 4,
 "nbformat_minor": 2
}
