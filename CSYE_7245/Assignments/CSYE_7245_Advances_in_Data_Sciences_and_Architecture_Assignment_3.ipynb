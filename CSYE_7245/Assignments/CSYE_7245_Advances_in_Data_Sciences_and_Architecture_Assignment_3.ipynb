{
 "cells": [
  {
   "cell_type": "markdown",
   "metadata": {
    "collapsed": true
   },
   "source": [
    "## Assignment Apache Spark \n",
    "\n",
    "**Due Friday, March 23, 2018**\n",
    "\n",
    "_Submission: Put the data and Jupyter notebook files in a folder. Make sure all links to data are relative to the folder so the TAs can run the notebooks._\n",
    "\n",
    "Note a Databricks shared notebook is acceptable as well.  See https://docs.databricks.com/user-guide/notebooks/index.html   \n",
    "\n",
    "You MUST use the data set that you will use in your project.\n",
    "   \n",
    "In this assignment, you will:\n",
    "\n",
    "Use Apache Spark for analysis of your project data.  \n",
    "  \n",
    "\n",
    "## Use Apache Spark for analysis of your project data\n",
    "\n",
    "\n",
    "### Part A - Set up Apache Spark\n",
    "\n",
    "* Sign Up for Databricks Community Edition https://accounts.cloud.databricks.com/registration.html#signup/community   \n",
    "* Read the Databricks User Guide https://docs.databricks.com/user-guide/index.html   \n",
    "    \n",
    "### Part B - Structured Streaming (30 Points)\n",
    "\n",
    "On _your project data_  \n",
    "* Set up a Structured Streaming analysis of your project data. https://docs.databricks.com/spark/latest/structured-streaming/index.html      \n",
    " \n",
    "### Part C - MLlib and Machine Learning (40 Points)\n",
    "\n",
    "On _your project data_  \n",
    "* Apply a MLlib and Machine Learning analysis of your project data. https://docs.databricks.com/spark/latest/mllib/index.html   \n",
    "\n",
    "### Part D - GraphX and GraphFrames or (30 Points)\n",
    "\n",
    "On _your project data_  \n",
    "* Set up a GraphX and GraphFrames analysis of your project data. https://docs.databricks.com/spark/latest/graph-analysis/index.html  \n",
    "\n"
   ]
  },
  {
   "cell_type": "markdown",
   "metadata": {},
   "source": [
    "Last update October 3, 2017\n",
    "\n",
    "The text is released under the [CC-BY-NC-ND license](https://creativecommons.org/licenses/by-nc-nd/3.0/us/legalcode), and code is released under the [MIT license](https://opensource.org/licenses/MIT)."
   ]
  }
 ],
 "metadata": {
  "kernelspec": {
   "display_name": "Python 3",
   "language": "python",
   "name": "python3"
  },
  "language_info": {
   "codemirror_mode": {
    "name": "ipython",
    "version": 3
   },
   "file_extension": ".py",
   "mimetype": "text/x-python",
   "name": "python",
   "nbconvert_exporter": "python",
   "pygments_lexer": "ipython3",
   "version": "3.6.1"
  }
 },
 "nbformat": 4,
 "nbformat_minor": 2
}
